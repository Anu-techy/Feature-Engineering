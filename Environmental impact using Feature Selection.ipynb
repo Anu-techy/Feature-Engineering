{
 "cells": [
  {
   "cell_type": "markdown",
   "id": "3c16f4aa-6d8b-41d9-b4ed-cb9235270295",
   "metadata": {},
   "source": [
    "### Problem Statement\n",
    "\n",
    "You are a data scientist / AI engineer working on an environmental impact analysis project. You have been provided with a dataset named **`\"environmental_impact_data.csv\"`**, which includes various socio-economic and environmental factors influencing the environmental impact score of different regions. The dataset comprises the following columns:\n",
    "\n",
    "- `pollution_level:` The pollution level in AQI (Air Quality Index).\n",
    "- `resource_consumption:` The resource consumption in tons.\n",
    "- `population_density:` The population density in people per km².\n",
    "- `economic_activity:` The economic activity in millions.\n",
    "- `industrial_activity:` The industrial activity in index units.\n",
    "- `traffic_density:` The traffic density in vehicles per km.\n",
    "- `waste_generation:` The waste generation in kg per capita.\n",
    "- `renewable_energy_usage:` The renewable energy usage in percentage.\n",
    "- `air_quality_index:` The air quality index.\n",
    "- `carbon_footprint:` The carbon footprint in tons per year.\n",
    "- `environmental_impact_score:` The environmental impact score ranging from 0 to 100.\n",
    "\n",
    "Your task is to analyze this dataset to understand the relationships between these factors and the environmental impact score. You will also evaluate multicollinearity among the features using correlation and Variance Inflation Factor (VIF). Finally, you will build machine learning models to predict the environmental impact score based on the selected features."
   ]
  },
  {
   "cell_type": "code",
   "execution_count": 38,
   "id": "ad251b9e-06da-464f-886f-942ce544e66a",
   "metadata": {},
   "outputs": [],
   "source": [
    "import pandas as pd\n",
    "import seaborn as sns\n",
    "from sklearn.model_selection import train_test_split\n",
    "from sklearn.linear_model import LinearRegression\n",
    "from sklearn.metrics import r2_score, mean_squared_error"
   ]
  },
  {
   "cell_type": "markdown",
   "id": "6bab4d69-7659-42d3-9a88-1b7c038234b9",
   "metadata": {},
   "source": [
    "### Data Preparation and Exploration"
   ]
  },
  {
   "cell_type": "code",
   "execution_count": 40,
   "id": "54761e59-2989-45a4-baf9-3bddfe955717",
   "metadata": {},
   "outputs": [
    {
     "data": {
      "text/html": [
       "<div>\n",
       "<style scoped>\n",
       "    .dataframe tbody tr th:only-of-type {\n",
       "        vertical-align: middle;\n",
       "    }\n",
       "\n",
       "    .dataframe tbody tr th {\n",
       "        vertical-align: top;\n",
       "    }\n",
       "\n",
       "    .dataframe thead th {\n",
       "        text-align: right;\n",
       "    }\n",
       "</style>\n",
       "<table border=\"1\" class=\"dataframe\">\n",
       "  <thead>\n",
       "    <tr style=\"text-align: right;\">\n",
       "      <th></th>\n",
       "      <th>pollution_level</th>\n",
       "      <th>resource_consumption</th>\n",
       "      <th>population_density</th>\n",
       "      <th>economic_activity</th>\n",
       "      <th>industrial_activity</th>\n",
       "      <th>traffic_density</th>\n",
       "      <th>waste_generation</th>\n",
       "      <th>renewable_energy_usage</th>\n",
       "      <th>air_quality_index</th>\n",
       "      <th>carbon_footprint</th>\n",
       "      <th>environmental_impact_score</th>\n",
       "    </tr>\n",
       "  </thead>\n",
       "  <tbody>\n",
       "    <tr>\n",
       "      <th>0</th>\n",
       "      <td>41.84</td>\n",
       "      <td>68.83</td>\n",
       "      <td>338.27</td>\n",
       "      <td>93.18</td>\n",
       "      <td>104.96</td>\n",
       "      <td>216.85</td>\n",
       "      <td>57.15</td>\n",
       "      <td>28.66</td>\n",
       "      <td>58.02</td>\n",
       "      <td>287.70</td>\n",
       "      <td>74.87</td>\n",
       "    </tr>\n",
       "    <tr>\n",
       "      <th>1</th>\n",
       "      <td>38.46</td>\n",
       "      <td>72.14</td>\n",
       "      <td>353.67</td>\n",
       "      <td>120.44</td>\n",
       "      <td>72.86</td>\n",
       "      <td>233.87</td>\n",
       "      <td>46.07</td>\n",
       "      <td>36.61</td>\n",
       "      <td>92.69</td>\n",
       "      <td>322.34</td>\n",
       "      <td>43.70</td>\n",
       "    </tr>\n",
       "    <tr>\n",
       "      <th>2</th>\n",
       "      <td>54.97</td>\n",
       "      <td>60.23</td>\n",
       "      <td>324.93</td>\n",
       "      <td>114.66</td>\n",
       "      <td>72.64</td>\n",
       "      <td>221.37</td>\n",
       "      <td>34.13</td>\n",
       "      <td>30.88</td>\n",
       "      <td>81.90</td>\n",
       "      <td>329.35</td>\n",
       "      <td>57.47</td>\n",
       "    </tr>\n",
       "    <tr>\n",
       "      <th>3</th>\n",
       "      <td>56.35</td>\n",
       "      <td>71.60</td>\n",
       "      <td>202.88</td>\n",
       "      <td>127.56</td>\n",
       "      <td>75.76</td>\n",
       "      <td>129.26</td>\n",
       "      <td>47.93</td>\n",
       "      <td>24.88</td>\n",
       "      <td>76.20</td>\n",
       "      <td>300.33</td>\n",
       "      <td>21.75</td>\n",
       "    </tr>\n",
       "    <tr>\n",
       "      <th>4</th>\n",
       "      <td>54.00</td>\n",
       "      <td>65.76</td>\n",
       "      <td>292.23</td>\n",
       "      <td>80.19</td>\n",
       "      <td>63.19</td>\n",
       "      <td>239.81</td>\n",
       "      <td>56.24</td>\n",
       "      <td>39.24</td>\n",
       "      <td>88.57</td>\n",
       "      <td>327.12</td>\n",
       "      <td>48.77</td>\n",
       "    </tr>\n",
       "  </tbody>\n",
       "</table>\n",
       "</div>"
      ],
      "text/plain": [
       "   pollution_level  resource_consumption  population_density  \\\n",
       "0            41.84                 68.83              338.27   \n",
       "1            38.46                 72.14              353.67   \n",
       "2            54.97                 60.23              324.93   \n",
       "3            56.35                 71.60              202.88   \n",
       "4            54.00                 65.76              292.23   \n",
       "\n",
       "   economic_activity  industrial_activity  traffic_density  waste_generation  \\\n",
       "0              93.18               104.96           216.85             57.15   \n",
       "1             120.44                72.86           233.87             46.07   \n",
       "2             114.66                72.64           221.37             34.13   \n",
       "3             127.56                75.76           129.26             47.93   \n",
       "4              80.19                63.19           239.81             56.24   \n",
       "\n",
       "   renewable_energy_usage  air_quality_index  carbon_footprint  \\\n",
       "0                   28.66              58.02            287.70   \n",
       "1                   36.61              92.69            322.34   \n",
       "2                   30.88              81.90            329.35   \n",
       "3                   24.88              76.20            300.33   \n",
       "4                   39.24              88.57            327.12   \n",
       "\n",
       "   environmental_impact_score  \n",
       "0                       74.87  \n",
       "1                       43.70  \n",
       "2                       57.47  \n",
       "3                       21.75  \n",
       "4                       48.77  "
      ]
     },
     "execution_count": 40,
     "metadata": {},
     "output_type": "execute_result"
    }
   ],
   "source": [
    "df = pd.read_csv(\"environmental_impact_data.csv\")\n",
    "df.head()"
   ]
  },
  {
   "cell_type": "code",
   "execution_count": 41,
   "id": "d61dbb8b-2638-4eb1-b2ac-0ca1ba9695c2",
   "metadata": {},
   "outputs": [
    {
     "data": {
      "text/plain": [
       "(100, 11)"
      ]
     },
     "execution_count": 41,
     "metadata": {},
     "output_type": "execute_result"
    }
   ],
   "source": [
    "df.shape"
   ]
  },
  {
   "cell_type": "code",
   "execution_count": 42,
   "id": "bbf67a94-a23d-48f5-b509-f54c71e9e97c",
   "metadata": {},
   "outputs": [
    {
     "data": {
      "text/html": [
       "<div>\n",
       "<style scoped>\n",
       "    .dataframe tbody tr th:only-of-type {\n",
       "        vertical-align: middle;\n",
       "    }\n",
       "\n",
       "    .dataframe tbody tr th {\n",
       "        vertical-align: top;\n",
       "    }\n",
       "\n",
       "    .dataframe thead th {\n",
       "        text-align: right;\n",
       "    }\n",
       "</style>\n",
       "<table border=\"1\" class=\"dataframe\">\n",
       "  <thead>\n",
       "    <tr style=\"text-align: right;\">\n",
       "      <th></th>\n",
       "      <th>pollution_level</th>\n",
       "      <th>resource_consumption</th>\n",
       "      <th>population_density</th>\n",
       "      <th>economic_activity</th>\n",
       "      <th>industrial_activity</th>\n",
       "      <th>traffic_density</th>\n",
       "      <th>waste_generation</th>\n",
       "      <th>renewable_energy_usage</th>\n",
       "      <th>air_quality_index</th>\n",
       "      <th>carbon_footprint</th>\n",
       "      <th>environmental_impact_score</th>\n",
       "    </tr>\n",
       "  </thead>\n",
       "  <tbody>\n",
       "    <tr>\n",
       "      <th>count</th>\n",
       "      <td>100.000000</td>\n",
       "      <td>100.000000</td>\n",
       "      <td>100.000000</td>\n",
       "      <td>100.000000</td>\n",
       "      <td>100.000000</td>\n",
       "      <td>100.000000</td>\n",
       "      <td>100.00000</td>\n",
       "      <td>100.000000</td>\n",
       "      <td>100.00000</td>\n",
       "      <td>100.000000</td>\n",
       "      <td>100.000000</td>\n",
       "    </tr>\n",
       "    <tr>\n",
       "      <th>mean</th>\n",
       "      <td>48.808000</td>\n",
       "      <td>70.729900</td>\n",
       "      <td>300.088900</td>\n",
       "      <td>102.005900</td>\n",
       "      <td>77.453800</td>\n",
       "      <td>202.344900</td>\n",
       "      <td>49.75010</td>\n",
       "      <td>30.085500</td>\n",
       "      <td>80.22250</td>\n",
       "      <td>294.236400</td>\n",
       "      <td>45.309100</td>\n",
       "    </tr>\n",
       "    <tr>\n",
       "      <th>std</th>\n",
       "      <td>8.784509</td>\n",
       "      <td>8.804049</td>\n",
       "      <td>49.082548</td>\n",
       "      <td>18.634315</td>\n",
       "      <td>15.582053</td>\n",
       "      <td>35.482795</td>\n",
       "      <td>9.40057</td>\n",
       "      <td>5.199462</td>\n",
       "      <td>10.18513</td>\n",
       "      <td>45.320703</td>\n",
       "      <td>21.458624</td>\n",
       "    </tr>\n",
       "    <tr>\n",
       "      <th>min</th>\n",
       "      <td>28.440000</td>\n",
       "      <td>51.870000</td>\n",
       "      <td>173.960000</td>\n",
       "      <td>50.250000</td>\n",
       "      <td>42.180000</td>\n",
       "      <td>113.550000</td>\n",
       "      <td>28.73000</td>\n",
       "      <td>16.270000</td>\n",
       "      <td>51.98000</td>\n",
       "      <td>103.880000</td>\n",
       "      <td>0.000000</td>\n",
       "    </tr>\n",
       "    <tr>\n",
       "      <th>25%</th>\n",
       "      <td>43.260000</td>\n",
       "      <td>65.392500</td>\n",
       "      <td>269.847500</td>\n",
       "      <td>90.840000</td>\n",
       "      <td>66.410000</td>\n",
       "      <td>181.335000</td>\n",
       "      <td>43.84500</td>\n",
       "      <td>27.102500</td>\n",
       "      <td>74.03250</td>\n",
       "      <td>265.042500</td>\n",
       "      <td>30.827500</td>\n",
       "    </tr>\n",
       "    <tr>\n",
       "      <th>50%</th>\n",
       "      <td>50.130000</td>\n",
       "      <td>69.500000</td>\n",
       "      <td>298.965000</td>\n",
       "      <td>102.965000</td>\n",
       "      <td>75.995000</td>\n",
       "      <td>204.720000</td>\n",
       "      <td>49.94000</td>\n",
       "      <td>29.600000</td>\n",
       "      <td>81.26000</td>\n",
       "      <td>300.220000</td>\n",
       "      <td>43.815000</td>\n",
       "    </tr>\n",
       "    <tr>\n",
       "      <th>75%</th>\n",
       "      <td>54.745000</td>\n",
       "      <td>76.310000</td>\n",
       "      <td>334.762500</td>\n",
       "      <td>114.600000</td>\n",
       "      <td>88.005000</td>\n",
       "      <td>226.825000</td>\n",
       "      <td>55.65250</td>\n",
       "      <td>33.937500</td>\n",
       "      <td>86.09000</td>\n",
       "      <td>321.282500</td>\n",
       "      <td>60.540000</td>\n",
       "    </tr>\n",
       "    <tr>\n",
       "      <th>max</th>\n",
       "      <td>70.460000</td>\n",
       "      <td>92.410000</td>\n",
       "      <td>402.730000</td>\n",
       "      <td>140.270000</td>\n",
       "      <td>121.530000</td>\n",
       "      <td>276.940000</td>\n",
       "      <td>70.27000</td>\n",
       "      <td>40.860000</td>\n",
       "      <td>105.30000</td>\n",
       "      <td>383.820000</td>\n",
       "      <td>100.000000</td>\n",
       "    </tr>\n",
       "  </tbody>\n",
       "</table>\n",
       "</div>"
      ],
      "text/plain": [
       "       pollution_level  resource_consumption  population_density  \\\n",
       "count       100.000000            100.000000          100.000000   \n",
       "mean         48.808000             70.729900          300.088900   \n",
       "std           8.784509              8.804049           49.082548   \n",
       "min          28.440000             51.870000          173.960000   \n",
       "25%          43.260000             65.392500          269.847500   \n",
       "50%          50.130000             69.500000          298.965000   \n",
       "75%          54.745000             76.310000          334.762500   \n",
       "max          70.460000             92.410000          402.730000   \n",
       "\n",
       "       economic_activity  industrial_activity  traffic_density  \\\n",
       "count         100.000000           100.000000       100.000000   \n",
       "mean          102.005900            77.453800       202.344900   \n",
       "std            18.634315            15.582053        35.482795   \n",
       "min            50.250000            42.180000       113.550000   \n",
       "25%            90.840000            66.410000       181.335000   \n",
       "50%           102.965000            75.995000       204.720000   \n",
       "75%           114.600000            88.005000       226.825000   \n",
       "max           140.270000           121.530000       276.940000   \n",
       "\n",
       "       waste_generation  renewable_energy_usage  air_quality_index  \\\n",
       "count         100.00000              100.000000          100.00000   \n",
       "mean           49.75010               30.085500           80.22250   \n",
       "std             9.40057                5.199462           10.18513   \n",
       "min            28.73000               16.270000           51.98000   \n",
       "25%            43.84500               27.102500           74.03250   \n",
       "50%            49.94000               29.600000           81.26000   \n",
       "75%            55.65250               33.937500           86.09000   \n",
       "max            70.27000               40.860000          105.30000   \n",
       "\n",
       "       carbon_footprint  environmental_impact_score  \n",
       "count        100.000000                  100.000000  \n",
       "mean         294.236400                   45.309100  \n",
       "std           45.320703                   21.458624  \n",
       "min          103.880000                    0.000000  \n",
       "25%          265.042500                   30.827500  \n",
       "50%          300.220000                   43.815000  \n",
       "75%          321.282500                   60.540000  \n",
       "max          383.820000                  100.000000  "
      ]
     },
     "execution_count": 42,
     "metadata": {},
     "output_type": "execute_result"
    }
   ],
   "source": [
    "df.describe()"
   ]
  },
  {
   "cell_type": "markdown",
   "id": "e53b7439-6098-419a-9049-7516fe11b026",
   "metadata": {},
   "source": [
    "### Feature Selection Using Correlation"
   ]
  },
  {
   "cell_type": "code",
   "execution_count": 44,
   "id": "cb90dbac-35f8-4f5e-82bf-19b59f31cb1c",
   "metadata": {},
   "outputs": [
    {
     "data": {
      "text/plain": [
       "<Axes: >"
      ]
     },
     "execution_count": 44,
     "metadata": {},
     "output_type": "execute_result"
    },
    {
     "data": {
      "image/png": "[encoded data removed]",
      "text/plain": [
       "<Figure size 640x480 with 2 Axes>"
      ]
     },
     "metadata": {},
     "output_type": "display_data"
    }
   ],
   "source": [
    "cm = df.corr()\n",
    "sns.heatmap(cm, annot=True, cmap='coolwarm', fmt='.2f')"
   ]
  },
  {
   "cell_type": "code",
   "execution_count": 45,
   "id": "46c63389-344c-4520-b16b-0f52ec5c7b0e",
   "metadata": {},
   "outputs": [
    {
     "data": {
      "text/plain": [
       "pollution_level               0.258833\n",
       "resource_consumption          0.095307\n",
       "population_density            0.091759\n",
       "economic_activity            -0.107769\n",
       "industrial_activity           0.690698\n",
       "traffic_density               0.594056\n",
       "waste_generation              0.155242\n",
       "renewable_energy_usage        0.112714\n",
       "air_quality_index            -0.191543\n",
       "carbon_footprint             -0.075185\n",
       "environmental_impact_score    1.000000\n",
       "Name: environmental_impact_score, dtype: float64"
      ]
     },
     "execution_count": 45,
     "metadata": {},
     "output_type": "execute_result"
    }
   ],
   "source": [
    "cm[\"environmental_impact_score\"]"
   ]
  },
  {
   "cell_type": "code",
   "execution_count": 46,
   "id": "83ddb5f5-8570-43cc-9d4d-ecabbd3d06ca",
   "metadata": {},
   "outputs": [
    {
     "data": {
      "text/plain": [
       "pollution_level               0.258833\n",
       "resource_consumption          0.095307\n",
       "population_density            0.091759\n",
       "economic_activity             0.107769\n",
       "industrial_activity           0.690698\n",
       "traffic_density               0.594056\n",
       "waste_generation              0.155242\n",
       "renewable_energy_usage        0.112714\n",
       "air_quality_index             0.191543\n",
       "carbon_footprint              0.075185\n",
       "environmental_impact_score    1.000000\n",
       "Name: environmental_impact_score, dtype: float64"
      ]
     },
     "execution_count": 46,
     "metadata": {},
     "output_type": "execute_result"
    }
   ],
   "source": [
    "cm_eis = abs(cm[\"environmental_impact_score\"])\n",
    "cm_eis"
   ]
  },
  {
   "cell_type": "code",
   "execution_count": 47,
   "id": "ae4178a4-bb27-4f5b-8e7d-fed99be6ab0c",
   "metadata": {},
   "outputs": [
    {
     "data": {
      "text/plain": [
       "Index(['pollution_level', 'industrial_activity', 'traffic_density',\n",
       "       'environmental_impact_score'],\n",
       "      dtype='object')"
      ]
     },
     "execution_count": 47,
     "metadata": {},
     "output_type": "execute_result"
    }
   ],
   "source": [
    "cm_eis[cm_eis > 0.2].index"
   ]
  },
  {
   "cell_type": "code",
   "execution_count": 48,
   "id": "634156ca-4406-4756-aeb7-a47ce9c02f46",
   "metadata": {},
   "outputs": [
    {
     "data": {
      "text/plain": [
       "Index(['pollution_level', 'industrial_activity', 'traffic_density'], dtype='object')"
      ]
     },
     "execution_count": 48,
     "metadata": {},
     "output_type": "execute_result"
    }
   ],
   "source": [
    "selected_features = cm_eis[cm_eis > 0.25].index.drop('environmental_impact_score')\n",
    "selected_features"
   ]
  },
  {
   "cell_type": "code",
   "execution_count": 69,
   "id": "92d8840e-0c62-49c3-83d7-91a933cead2c",
   "metadata": {},
   "outputs": [
    {
     "name": "stdout",
     "output_type": "stream",
     "text": [
      "r2    0.9694860188985326\n",
      "MSE    11.4491146823855\n"
     ]
    }
   ],
   "source": [
    "X = df[selected_features]\n",
    "y = df['environmental_impact_score']\n",
    "\n",
    "X_train, X_test, y_train, y_test = train_test_split(X, y, test_size = 0.2, random_state = 42)\n",
    "\n",
    "model = LinearRegression()\n",
    "model.fit(X_train, y_train)\n",
    "\n",
    "y_pred = model.predict(X_test)\n",
    "mse = mean_squared_error(y_test, y_pred)\n",
    "r2 = r2_score(y_test, y_pred)\n",
    "\n",
    "print(\"r2   \",r2)\n",
    "print(\"MSE   \",mse)"
   ]
  },
  {
   "cell_type": "markdown",
   "id": "3dc03c67-1fd1-4681-8686-a0c510026a1b",
   "metadata": {},
   "source": [
    "# Scaling"
   ]
  },
  {
   "cell_type": "code",
   "execution_count": 72,
   "id": "9dc5f26a-ea15-420a-9797-915db4b64a68",
   "metadata": {},
   "outputs": [
    {
     "name": "stdout",
     "output_type": "stream",
     "text": [
      "<class 'pandas.core.frame.DataFrame'>\n",
      "RangeIndex: 100 entries, 0 to 99\n",
      "Data columns (total 11 columns):\n",
      " #   Column                      Non-Null Count  Dtype  \n",
      "---  ------                      --------------  -----  \n",
      " 0   pollution_level             100 non-null    float64\n",
      " 1   resource_consumption        100 non-null    float64\n",
      " 2   population_density          100 non-null    float64\n",
      " 3   economic_activity           100 non-null    float64\n",
      " 4   industrial_activity         100 non-null    float64\n",
      " 5   traffic_density             100 non-null    float64\n",
      " 6   waste_generation            100 non-null    float64\n",
      " 7   renewable_energy_usage      100 non-null    float64\n",
      " 8   air_quality_index           100 non-null    float64\n",
      " 9   carbon_footprint            100 non-null    float64\n",
      " 10  environmental_impact_score  100 non-null    float64\n",
      "dtypes: float64(11)\n",
      "memory usage: 8.7 KB\n"
     ]
    }
   ],
   "source": [
    "df.info()"
   ]
  },
  {
   "cell_type": "code",
   "execution_count": 80,
   "id": "6e894145-8f0f-4323-b215-73c8a880d028",
   "metadata": {},
   "outputs": [
    {
     "data": {
      "text/html": [
       "<div>\n",
       "<style scoped>\n",
       "    .dataframe tbody tr th:only-of-type {\n",
       "        vertical-align: middle;\n",
       "    }\n",
       "\n",
       "    .dataframe tbody tr th {\n",
       "        vertical-align: top;\n",
       "    }\n",
       "\n",
       "    .dataframe thead th {\n",
       "        text-align: right;\n",
       "    }\n",
       "</style>\n",
       "<table border=\"1\" class=\"dataframe\">\n",
       "  <thead>\n",
       "    <tr style=\"text-align: right;\">\n",
       "      <th></th>\n",
       "      <th>pollution_level</th>\n",
       "      <th>resource_consumption</th>\n",
       "      <th>population_density</th>\n",
       "      <th>economic_activity</th>\n",
       "      <th>industrial_activity</th>\n",
       "      <th>traffic_density</th>\n",
       "      <th>waste_generation</th>\n",
       "      <th>renewable_energy_usage</th>\n",
       "      <th>air_quality_index</th>\n",
       "      <th>carbon_footprint</th>\n",
       "      <th>environmental_impact_score</th>\n",
       "    </tr>\n",
       "  </thead>\n",
       "  <tbody>\n",
       "    <tr>\n",
       "      <th>0</th>\n",
       "      <td>0.318896</td>\n",
       "      <td>0.418352</td>\n",
       "      <td>0.718232</td>\n",
       "      <td>0.476894</td>\n",
       "      <td>0.791178</td>\n",
       "      <td>0.632230</td>\n",
       "      <td>0.684160</td>\n",
       "      <td>0.503863</td>\n",
       "      <td>0.113278</td>\n",
       "      <td>0.656641</td>\n",
       "      <td>74.87</td>\n",
       "    </tr>\n",
       "    <tr>\n",
       "      <th>1</th>\n",
       "      <td>0.238458</td>\n",
       "      <td>0.500000</td>\n",
       "      <td>0.785549</td>\n",
       "      <td>0.779716</td>\n",
       "      <td>0.386641</td>\n",
       "      <td>0.736398</td>\n",
       "      <td>0.417429</td>\n",
       "      <td>0.827166</td>\n",
       "      <td>0.763503</td>\n",
       "      <td>0.780382</td>\n",
       "      <td>43.70</td>\n",
       "    </tr>\n",
       "    <tr>\n",
       "      <th>2</th>\n",
       "      <td>0.631366</td>\n",
       "      <td>0.206216</td>\n",
       "      <td>0.659920</td>\n",
       "      <td>0.715508</td>\n",
       "      <td>0.383869</td>\n",
       "      <td>0.659894</td>\n",
       "      <td>0.129995</td>\n",
       "      <td>0.594144</td>\n",
       "      <td>0.561140</td>\n",
       "      <td>0.805423</td>\n",
       "      <td>57.47</td>\n",
       "    </tr>\n",
       "    <tr>\n",
       "      <th>3</th>\n",
       "      <td>0.664208</td>\n",
       "      <td>0.486680</td>\n",
       "      <td>0.126415</td>\n",
       "      <td>0.858809</td>\n",
       "      <td>0.423188</td>\n",
       "      <td>0.096150</td>\n",
       "      <td>0.462205</td>\n",
       "      <td>0.350142</td>\n",
       "      <td>0.454239</td>\n",
       "      <td>0.701758</td>\n",
       "      <td>21.75</td>\n",
       "    </tr>\n",
       "    <tr>\n",
       "      <th>4</th>\n",
       "      <td>0.608282</td>\n",
       "      <td>0.342625</td>\n",
       "      <td>0.516982</td>\n",
       "      <td>0.332593</td>\n",
       "      <td>0.264776</td>\n",
       "      <td>0.772752</td>\n",
       "      <td>0.662253</td>\n",
       "      <td>0.934120</td>\n",
       "      <td>0.686234</td>\n",
       "      <td>0.797457</td>\n",
       "      <td>48.77</td>\n",
       "    </tr>\n",
       "  </tbody>\n",
       "</table>\n",
       "</div>"
      ],
      "text/plain": [
       "   pollution_level  resource_consumption  population_density  \\\n",
       "0         0.318896              0.418352            0.718232   \n",
       "1         0.238458              0.500000            0.785549   \n",
       "2         0.631366              0.206216            0.659920   \n",
       "3         0.664208              0.486680            0.126415   \n",
       "4         0.608282              0.342625            0.516982   \n",
       "\n",
       "   economic_activity  industrial_activity  traffic_density  waste_generation  \\\n",
       "0           0.476894             0.791178         0.632230          0.684160   \n",
       "1           0.779716             0.386641         0.736398          0.417429   \n",
       "2           0.715508             0.383869         0.659894          0.129995   \n",
       "3           0.858809             0.423188         0.096150          0.462205   \n",
       "4           0.332593             0.264776         0.772752          0.662253   \n",
       "\n",
       "   renewable_energy_usage  air_quality_index  carbon_footprint  \\\n",
       "0                0.503863           0.113278          0.656641   \n",
       "1                0.827166           0.763503          0.780382   \n",
       "2                0.594144           0.561140          0.805423   \n",
       "3                0.350142           0.454239          0.701758   \n",
       "4                0.934120           0.686234          0.797457   \n",
       "\n",
       "   environmental_impact_score  \n",
       "0                       74.87  \n",
       "1                       43.70  \n",
       "2                       57.47  \n",
       "3                       21.75  \n",
       "4                       48.77  "
      ]
     },
     "execution_count": 80,
     "metadata": {},
     "output_type": "execute_result"
    }
   ],
   "source": [
    "from sklearn.preprocessing import MinMaxScaler\n",
    "\n",
    "# here we created a dataframe with scaled columns and unscaled target \n",
    "\n",
    "scaler = MinMaxScaler()\n",
    "scaled_features = scaler.fit_transform(df.drop(columns=['environmental_impact_score']))\n",
    "\n",
    "df_scaled = pd.DataFrame(scaled_features, columns=df.columns[:-1])\n",
    "\n",
    "df_scaled['environmental_impact_score'] = df['environmental_impact_score']\n",
    "df_scaled.head()"
   ]
  },
  {
   "cell_type": "markdown",
   "id": "2a0f3b72-2a4f-42d8-86a7-6b7db9ed60dc",
   "metadata": {},
   "source": [
    "### Feature Selection Using VIF"
   ]
  },
  {
   "cell_type": "code",
   "execution_count": 90,
   "id": "e19d5499-f5c2-4426-853f-10b0821cd512",
   "metadata": {},
   "outputs": [],
   "source": [
    "# Compute the Variance Inflation Factor (VIF) for each of the features except target variable.\n",
    "from statsmodels.stats.outliers_influence import variance_inflation_factor\n",
    "\n",
    "def calculate_vif(data):\n",
    "    vif_df = pd.DataFrame()\n",
    "    vif_df[\"Variable\"] = data.columns\n",
    "    vif_df[\"VIF\"] = [variance_inflation_factor(data.values, i) for i in range(data.shape[1])]\n",
    "    return vif_df"
   ]
  },
  {
   "cell_type": "code",
   "execution_count": 92,
   "id": "fe56e29b-2204-40b4-8714-87283cb09f4c",
   "metadata": {},
   "outputs": [
    {
     "data": {
      "text/html": [
       "<div>\n",
       "<style scoped>\n",
       "    .dataframe tbody tr th:only-of-type {\n",
       "        vertical-align: middle;\n",
       "    }\n",
       "\n",
       "    .dataframe tbody tr th {\n",
       "        vertical-align: top;\n",
       "    }\n",
       "\n",
       "    .dataframe thead th {\n",
       "        text-align: right;\n",
       "    }\n",
       "</style>\n",
       "<table border=\"1\" class=\"dataframe\">\n",
       "  <thead>\n",
       "    <tr style=\"text-align: right;\">\n",
       "      <th></th>\n",
       "      <th>Variable</th>\n",
       "      <th>VIF</th>\n",
       "    </tr>\n",
       "  </thead>\n",
       "  <tbody>\n",
       "    <tr>\n",
       "      <th>0</th>\n",
       "      <td>pollution_level</td>\n",
       "      <td>5.791073</td>\n",
       "    </tr>\n",
       "    <tr>\n",
       "      <th>1</th>\n",
       "      <td>resource_consumption</td>\n",
       "      <td>5.676857</td>\n",
       "    </tr>\n",
       "    <tr>\n",
       "      <th>2</th>\n",
       "      <td>population_density</td>\n",
       "      <td>7.783071</td>\n",
       "    </tr>\n",
       "    <tr>\n",
       "      <th>3</th>\n",
       "      <td>economic_activity</td>\n",
       "      <td>7.470285</td>\n",
       "    </tr>\n",
       "    <tr>\n",
       "      <th>4</th>\n",
       "      <td>industrial_activity</td>\n",
       "      <td>6.037037</td>\n",
       "    </tr>\n",
       "    <tr>\n",
       "      <th>5</th>\n",
       "      <td>traffic_density</td>\n",
       "      <td>7.310719</td>\n",
       "    </tr>\n",
       "    <tr>\n",
       "      <th>6</th>\n",
       "      <td>waste_generation</td>\n",
       "      <td>7.114373</td>\n",
       "    </tr>\n",
       "    <tr>\n",
       "      <th>7</th>\n",
       "      <td>renewable_energy_usage</td>\n",
       "      <td>8.735315</td>\n",
       "    </tr>\n",
       "    <tr>\n",
       "      <th>8</th>\n",
       "      <td>air_quality_index</td>\n",
       "      <td>8.909886</td>\n",
       "    </tr>\n",
       "    <tr>\n",
       "      <th>9</th>\n",
       "      <td>carbon_footprint</td>\n",
       "      <td>14.231671</td>\n",
       "    </tr>\n",
       "  </tbody>\n",
       "</table>\n",
       "</div>"
      ],
      "text/plain": [
       "                 Variable        VIF\n",
       "0         pollution_level   5.791073\n",
       "1    resource_consumption   5.676857\n",
       "2      population_density   7.783071\n",
       "3       economic_activity   7.470285\n",
       "4     industrial_activity   6.037037\n",
       "5         traffic_density   7.310719\n",
       "6        waste_generation   7.114373\n",
       "7  renewable_energy_usage   8.735315\n",
       "8       air_quality_index   8.909886\n",
       "9        carbon_footprint  14.231671"
      ]
     },
     "execution_count": 92,
     "metadata": {},
     "output_type": "execute_result"
    }
   ],
   "source": [
    "X =  df_scaled.drop('environmental_impact_score',axis=1)          # drop target\n",
    "calculate_vif(X)"
   ]
  },
  {
   "cell_type": "code",
   "execution_count": 94,
   "id": "9c04058a-7943-4b58-b4c1-fc62c0ef88ac",
   "metadata": {},
   "outputs": [
    {
     "data": {
      "text/html": [
       "<div>\n",
       "<style scoped>\n",
       "    .dataframe tbody tr th:only-of-type {\n",
       "        vertical-align: middle;\n",
       "    }\n",
       "\n",
       "    .dataframe tbody tr th {\n",
       "        vertical-align: top;\n",
       "    }\n",
       "\n",
       "    .dataframe thead th {\n",
       "        text-align: right;\n",
       "    }\n",
       "</style>\n",
       "<table border=\"1\" class=\"dataframe\">\n",
       "  <thead>\n",
       "    <tr style=\"text-align: right;\">\n",
       "      <th></th>\n",
       "      <th>Variable</th>\n",
       "      <th>VIF</th>\n",
       "    </tr>\n",
       "  </thead>\n",
       "  <tbody>\n",
       "    <tr>\n",
       "      <th>0</th>\n",
       "      <td>pollution_level</td>\n",
       "      <td>5.520889</td>\n",
       "    </tr>\n",
       "    <tr>\n",
       "      <th>1</th>\n",
       "      <td>resource_consumption</td>\n",
       "      <td>5.596802</td>\n",
       "    </tr>\n",
       "    <tr>\n",
       "      <th>2</th>\n",
       "      <td>population_density</td>\n",
       "      <td>7.368959</td>\n",
       "    </tr>\n",
       "    <tr>\n",
       "      <th>3</th>\n",
       "      <td>economic_activity</td>\n",
       "      <td>7.179938</td>\n",
       "    </tr>\n",
       "    <tr>\n",
       "      <th>4</th>\n",
       "      <td>industrial_activity</td>\n",
       "      <td>6.009814</td>\n",
       "    </tr>\n",
       "    <tr>\n",
       "      <th>5</th>\n",
       "      <td>traffic_density</td>\n",
       "      <td>7.241070</td>\n",
       "    </tr>\n",
       "    <tr>\n",
       "      <th>6</th>\n",
       "      <td>waste_generation</td>\n",
       "      <td>6.846750</td>\n",
       "    </tr>\n",
       "    <tr>\n",
       "      <th>7</th>\n",
       "      <td>renewable_energy_usage</td>\n",
       "      <td>8.567780</td>\n",
       "    </tr>\n",
       "    <tr>\n",
       "      <th>8</th>\n",
       "      <td>air_quality_index</td>\n",
       "      <td>8.613146</td>\n",
       "    </tr>\n",
       "  </tbody>\n",
       "</table>\n",
       "</div>"
      ],
      "text/plain": [
       "                 Variable       VIF\n",
       "0         pollution_level  5.520889\n",
       "1    resource_consumption  5.596802\n",
       "2      population_density  7.368959\n",
       "3       economic_activity  7.179938\n",
       "4     industrial_activity  6.009814\n",
       "5         traffic_density  7.241070\n",
       "6        waste_generation  6.846750\n",
       "7  renewable_energy_usage  8.567780\n",
       "8       air_quality_index  8.613146"
      ]
     },
     "execution_count": 94,
     "metadata": {},
     "output_type": "execute_result"
    }
   ],
   "source": [
    "X =  X.drop('carbon_footprint', axis=1)\n",
    "calculate_vif(X)"
   ]
  },
  {
   "cell_type": "code",
   "execution_count": 96,
   "id": "3b471eb8-1be0-4cfe-a577-800e6509942f",
   "metadata": {},
   "outputs": [
    {
     "data": {
      "text/html": [
       "<div>\n",
       "<style scoped>\n",
       "    .dataframe tbody tr th:only-of-type {\n",
       "        vertical-align: middle;\n",
       "    }\n",
       "\n",
       "    .dataframe tbody tr th {\n",
       "        vertical-align: top;\n",
       "    }\n",
       "\n",
       "    .dataframe thead th {\n",
       "        text-align: right;\n",
       "    }\n",
       "</style>\n",
       "<table border=\"1\" class=\"dataframe\">\n",
       "  <thead>\n",
       "    <tr style=\"text-align: right;\">\n",
       "      <th></th>\n",
       "      <th>Variable</th>\n",
       "      <th>VIF</th>\n",
       "    </tr>\n",
       "  </thead>\n",
       "  <tbody>\n",
       "    <tr>\n",
       "      <th>0</th>\n",
       "      <td>pollution_level</td>\n",
       "      <td>5.497156</td>\n",
       "    </tr>\n",
       "    <tr>\n",
       "      <th>1</th>\n",
       "      <td>resource_consumption</td>\n",
       "      <td>5.566377</td>\n",
       "    </tr>\n",
       "    <tr>\n",
       "      <th>2</th>\n",
       "      <td>population_density</td>\n",
       "      <td>7.359491</td>\n",
       "    </tr>\n",
       "    <tr>\n",
       "      <th>3</th>\n",
       "      <td>economic_activity</td>\n",
       "      <td>6.600133</td>\n",
       "    </tr>\n",
       "    <tr>\n",
       "      <th>4</th>\n",
       "      <td>industrial_activity</td>\n",
       "      <td>5.920690</td>\n",
       "    </tr>\n",
       "    <tr>\n",
       "      <th>5</th>\n",
       "      <td>traffic_density</td>\n",
       "      <td>7.152634</td>\n",
       "    </tr>\n",
       "    <tr>\n",
       "      <th>6</th>\n",
       "      <td>waste_generation</td>\n",
       "      <td>6.237475</td>\n",
       "    </tr>\n",
       "    <tr>\n",
       "      <th>7</th>\n",
       "      <td>renewable_energy_usage</td>\n",
       "      <td>7.685256</td>\n",
       "    </tr>\n",
       "  </tbody>\n",
       "</table>\n",
       "</div>"
      ],
      "text/plain": [
       "                 Variable       VIF\n",
       "0         pollution_level  5.497156\n",
       "1    resource_consumption  5.566377\n",
       "2      population_density  7.359491\n",
       "3       economic_activity  6.600133\n",
       "4     industrial_activity  5.920690\n",
       "5         traffic_density  7.152634\n",
       "6        waste_generation  6.237475\n",
       "7  renewable_energy_usage  7.685256"
      ]
     },
     "execution_count": 96,
     "metadata": {},
     "output_type": "execute_result"
    }
   ],
   "source": [
    "X =  X.drop('air_quality_index', axis=1)\n",
    "calculate_vif(X)"
   ]
  },
  {
   "cell_type": "code",
   "execution_count": 98,
   "id": "fd4c751a-404b-4bb2-beb4-fa4ac7c7d0c7",
   "metadata": {},
   "outputs": [
    {
     "data": {
      "text/plain": [
       "Index(['pollution_level', 'resource_consumption', 'population_density',\n",
       "       'economic_activity', 'industrial_activity', 'traffic_density',\n",
       "       'waste_generation', 'renewable_energy_usage'],\n",
       "      dtype='object')"
      ]
     },
     "execution_count": 98,
     "metadata": {},
     "output_type": "execute_result"
    }
   ],
   "source": [
    "X.columns"
   ]
  },
  {
   "cell_type": "code",
   "execution_count": 100,
   "id": "8dfdf7de-ecc8-4629-baa5-07bf163bf868",
   "metadata": {},
   "outputs": [
    {
     "data": {
      "text/plain": [
       "0.9742394259105335"
      ]
     },
     "execution_count": 100,
     "metadata": {},
     "output_type": "execute_result"
    }
   ],
   "source": [
    "X = df.drop([\"environmental_impact_score\",\"carbon_footprint\",\"air_quality_index\"], axis=1)\n",
    "y = df[\"environmental_impact_score\"]\n",
    "\n",
    "X_train, X_test, y_train, y_test = train_test_split(X, y, test_size=0.2, random_state=10)\n",
    "\n",
    "model_full = LinearRegression()\n",
    "model_full.fit(X_train, y_train)\n",
    "model_full.score(X_test, y_test)"
   ]
  },
  {
   "cell_type": "code",
   "execution_count": null,
   "id": "e144410b-0068-470c-b1ee-1dbe57c6e2fd",
   "metadata": {},
   "outputs": [],
   "source": []
  }
 ],
 "metadata": {
  "kernelspec": {
   "display_name": "Python [conda env:base] *",
   "language": "python",
   "name": "conda-base-py"
  },
  "language_info": {
   "codemirror_mode": {
    "name": "ipython",
    "version": 3
   },
   "file_extension": ".py",
   "mimetype": "text/x-python",
   "name": "python",
   "nbconvert_exporter": "python",
   "pygments_lexer": "ipython3",
   "version": "3.12.7"
  }
 },
 "nbformat": 4,
 "nbformat_minor": 5
}
